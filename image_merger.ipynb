{
 "cells": [
  {
   "cell_type": "code",
   "execution_count": 1,
   "metadata": {},
   "outputs": [],
   "source": [
    "import os\n",
    "import sys\n",
    "from PIL import Image\n",
    "from PyQt5.QtWidgets import QPushButton, QVBoxLayout,QFileDialog, QWidget, QApplication, QGroupBox, QVBoxLayout, QLineEdit"
   ]
  },
  {
   "cell_type": "code",
   "execution_count": 2,
   "metadata": {},
   "outputs": [],
   "source": [
    "class Main_window(QWidget):\n",
    "    def __init__(self):\n",
    "        super().__init__()\n",
    "        self.title = 'Image_merger'\n",
    "        self.setWindowTitle(self.title)\n",
    "        self.setGeometry(50,50,500,500)\n",
    "        \n",
    "        \n",
    "        self.vbox = QVBoxLayout()\n",
    "        self.b1 = QPushButton('Folder_name')\n",
    "        self.b1.clicked.connect(self.image_merger)\n",
    "        self.vbox.addWidget(self.b1)\n",
    "        self.line = QLineEdit()\n",
    "        self.line.returnPressed.connect(self.format_set)\n",
    "        self.vbox.addWidget(self.line)\n",
    "        self.b2 = QPushButton('save_tiff')\n",
    "        self.b2.clicked.connect(self.save_merged)\n",
    "        self.vbox.addWidget(self.b2)\n",
    "        self.setLayout(self.vbox)\n",
    "        \n",
    "        self.show()\n",
    "        \n",
    "        \n",
    "    def image_merger(self):\n",
    "        self.path = QFileDialog.getExistingDirectory()\n",
    "        s = os.listdir(self.path)\n",
    "        self.a = []\n",
    "        for file in s:\n",
    "            if file.endswith('jpeg'):\n",
    "                self.r = Image.open(os.path.join(self.path, file))\n",
    "                self.a.append(self.r.resize((346,640)))\n",
    "    \n",
    "    \n",
    "    def format_set(self):\n",
    "        self.format = self.line.text()\n",
    "    \n",
    "    \n",
    "    def save_merged(self):      \n",
    "        self.r.save(fp = os.path.join(self.path, ('out.' + (self.format))), save_all=True,append_images=self.a)\n",
    "\n",
    "\n",
    "\n",
    "        "
   ]
  },
  {
   "cell_type": "code",
   "execution_count": null,
   "metadata": {},
   "outputs": [],
   "source": [
    "app = QApplication(sys.argv)\n",
    "win = Main_window()\n",
    "sys.exit(app.exec_())\n"
   ]
  }
 ],
 "metadata": {
  "kernelspec": {
   "display_name": "Python 3",
   "language": "python",
   "name": "python3"
  },
  "language_info": {
   "codemirror_mode": {
    "name": "ipython",
    "version": 3
   },
   "file_extension": ".py",
   "mimetype": "text/x-python",
   "name": "python",
   "nbconvert_exporter": "python",
   "pygments_lexer": "ipython3",
   "version": "3.7.4"
  }
 },
 "nbformat": 4,
 "nbformat_minor": 2
}
